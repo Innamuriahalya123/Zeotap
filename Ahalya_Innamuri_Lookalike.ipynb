{
 "cells": [
  {
   "cell_type": "markdown",
   "id": "197a81d0-c287-47e9-a7a4-c131225a0645",
   "metadata": {},
   "source": [
    "TASK 2: LOOKALIKE MODEL"
   ]
  },
  {
   "cell_type": "raw",
   "id": "4cc3b89c-fa1e-4f9b-b4f1-1b05f94a1f9d",
   "metadata": {},
   "source": [
    "To build the Lookalike Model for recommending 3 similar customers based on both their profile and transaction history,By following steps:\n",
    "\n",
    "Data Preprocessing:\n",
    "Merge the datasets (Customers.csv, Products.csv, Transactions.csv) to create a combined dataset.\n",
    "Process customer information and their transactions.\n",
    "    \n",
    "Feature Engineering:\n",
    "Create features based on customer demographics and transaction behavior (e.g., total amount spent, frequency of purchases, product categories purchased, etc.).\n",
    "\n",
    "Similarity Calculation:\n",
    "Use a similarity metric like Cosine Similarity or Euclidean Distance to compare customers based on the features created in the previous step.\n",
    "    \n",
    "Generate Recommendations:\n",
    "For each customer, calculate their similarity scores with other customers, and recommend the top 3 most similar customers based on these scores.\n",
    "\n",
    "Create Lookalike.csv:\n",
    "Format the output as required: Map<cust_id, List<cust_id, score>>.\n",
    "Let's break this down and implement the solution step-by-step."
   ]
  },
  {
   "cell_type": "markdown",
   "id": "1140c883-cc5e-46be-a9dc-aa35772db7e0",
   "metadata": {},
   "source": [
    "1.DATA PREPROCESSING AND FEATURE ENGINEERING"
   ]
  },
  {
   "cell_type": "code",
   "execution_count": 1,
   "id": "10c32b42-a2cb-458e-9e86-2069b85a542c",
   "metadata": {},
   "outputs": [
    {
     "name": "stdout",
     "output_type": "stream",
     "text": [
      "  TransactionID CustomerID ProductID     TransactionDate  Quantity  \\\n",
      "0        T00001      C0199      P067 2024-08-25 12:38:23         1   \n",
      "1        T00112      C0146      P067 2024-05-27 22:23:54         1   \n",
      "2        T00166      C0127      P067 2024-04-25 07:38:55         1   \n",
      "3        T00272      C0087      P067 2024-03-26 22:55:37         2   \n",
      "4        T00363      C0070      P067 2024-03-21 15:10:10         3   \n",
      "\n",
      "   TotalValue  Price_x     CustomerName         Region SignupDate  \\\n",
      "0      300.68   300.68   Andrea Jenkins         Europe 2022-12-03   \n",
      "1      300.68   300.68  Brittany Harvey           Asia 2024-09-04   \n",
      "2      300.68   300.68  Kathryn Stevens         Europe 2024-04-04   \n",
      "3      601.36   300.68  Travis Campbell  South America 2024-04-11   \n",
      "4      902.04   300.68    Timothy Perez         Europe 2022-03-15   \n",
      "\n",
      "                       ProductName     Category  Price_y  \n",
      "0  ComfortLiving Bluetooth Speaker  Electronics   300.68  \n",
      "1  ComfortLiving Bluetooth Speaker  Electronics   300.68  \n",
      "2  ComfortLiving Bluetooth Speaker  Electronics   300.68  \n",
      "3  ComfortLiving Bluetooth Speaker  Electronics   300.68  \n",
      "4  ComfortLiving Bluetooth Speaker  Electronics   300.68  \n"
     ]
    }
   ],
   "source": [
    "import pandas as pd\n",
    "import numpy as np\n",
    "from sklearn.metrics.pairwise import cosine_similarity\n",
    "from sklearn.preprocessing import StandardScaler\n",
    "\n",
    "# Load the datasets\n",
    "customers = pd.read_csv('Customers.csv')\n",
    "products = pd.read_csv('Products.csv')\n",
    "transactions = pd.read_csv('Transactions.csv')\n",
    "\n",
    "# Convert date columns to datetime\n",
    "customers['SignupDate'] = pd.to_datetime(customers['SignupDate'])\n",
    "transactions['TransactionDate'] = pd.to_datetime(transactions['TransactionDate'])\n",
    "\n",
    "# Merge the datasets (Transactions + Customers + Products)\n",
    "merged_data = pd.merge(transactions, customers, on='CustomerID', how='left')\n",
    "merged_data = pd.merge(merged_data, products, on='ProductID', how='left')\n",
    "\n",
    "# Check merged data\n",
    "print(merged_data.head())\n"
   ]
  },
  {
   "cell_type": "markdown",
   "id": "b1e0ad7a-605d-44cf-9469-3efeb3f0310b",
   "metadata": {},
   "source": [
    "2.FEATURE ENGINEERING"
   ]
  },
  {
   "cell_type": "code",
   "execution_count": 2,
   "id": "c1edfb73-2214-4d8f-9869-f7b552a2a8c4",
   "metadata": {},
   "outputs": [
    {
     "name": "stdout",
     "output_type": "stream",
     "text": [
      "  CustomerID  total_spent  num_transactions  avg_transaction_value  \\\n",
      "0      C0001      3354.52                 5                670.904   \n",
      "1      C0002      1862.74                 4                465.685   \n",
      "2      C0003      2725.38                 4                681.345   \n",
      "3      C0004      5354.88                 8                669.360   \n",
      "4      C0005      2034.24                 3                678.080   \n",
      "\n",
      "                categories_purchased  \n",
      "0     Books, Home Decor, Electronics  \n",
      "1               Home Decor, Clothing  \n",
      "2  Home Decor, Clothing, Electronics  \n",
      "3     Books, Home Decor, Electronics  \n",
      "4            Home Decor, Electronics  \n"
     ]
    }
   ],
   "source": [
    "# Create aggregated features for customers\n",
    "customer_features = merged_data.groupby('CustomerID').agg(\n",
    "    total_spent=('TotalValue', 'sum'),\n",
    "    num_transactions=('TransactionID', 'count'),\n",
    "    avg_transaction_value=('TotalValue', 'mean'),\n",
    "    categories_purchased=('Category', lambda x: ', '.join(x.unique()))\n",
    ").reset_index()\n",
    "\n",
    "# Show customer features\n",
    "print(customer_features.head())"
   ]
  },
  {
   "cell_type": "markdown",
   "id": "d8bc838a-307b-4cca-b5c7-a4be409357cc",
   "metadata": {},
   "source": [
    "3.CALCULATE SIMILARITY"
   ]
  },
  {
   "cell_type": "code",
   "execution_count": 3,
   "id": "05a0f404-4484-479f-9f81-a2a719e3d681",
   "metadata": {},
   "outputs": [
    {
     "name": "stdout",
     "output_type": "stream",
     "text": [
      "[[ 1.          0.97368428  0.55235809 -0.45939188  0.54090993]\n",
      " [ 0.97368428  1.          0.70863336 -0.63052062  0.69951105]\n",
      " [ 0.55235809  0.70863336  1.         -0.99411512  0.99989428]\n",
      " [-0.45939188 -0.63052062 -0.99411512  1.         -0.9955419 ]\n",
      " [ 0.54090993  0.69951105  0.99989428 -0.9955419   1.        ]]\n"
     ]
    }
   ],
   "source": [
    "# Feature selection for similarity calculation\n",
    "feature_columns = ['total_spent', 'num_transactions', 'avg_transaction_value']\n",
    "\n",
    "# Scale the features (important for similarity calculation)\n",
    "scaler = StandardScaler()\n",
    "scaled_features = scaler.fit_transform(customer_features[feature_columns])\n",
    "\n",
    "# Compute cosine similarity between customers\n",
    "similarity_matrix = cosine_similarity(scaled_features)\n",
    "\n",
    "# Show similarity between first 5 customers\n",
    "print(similarity_matrix[:5, :5])"
   ]
  },
  {
   "cell_type": "markdown",
   "id": "3cdb31d1-7744-492b-a247-6f6c565244b0",
   "metadata": {},
   "source": [
    "4.GENERATE RECOMENDATIONS"
   ]
  },
  {
   "cell_type": "code",
   "execution_count": 4,
   "id": "220af44b-7fa5-40eb-a598-1edfe63d9033",
   "metadata": {},
   "outputs": [
    {
     "name": "stdout",
     "output_type": "stream",
     "text": [
      "[('C0137', np.float64(0.9993600788417096)), ('C0152', np.float64(0.9956575062125335)), ('C0121', np.float64(0.9930123335059389))]\n"
     ]
    }
   ],
   "source": [
    "# Function to get top N similar customers\n",
    "def get_top_n_similar(customers, similarity_matrix, top_n=3):\n",
    "    recommendations = {}\n",
    "    for idx, customer_id in enumerate(customers['CustomerID'][:20]):  # First 20 customers\n",
    "        similarity_scores = similarity_matrix[idx]\n",
    "        \n",
    "        # Exclude self-comparison (same customer)\n",
    "        similarity_scores[idx] = -1\n",
    "        \n",
    "        # Get indices of the top N most similar customers\n",
    "        similar_indices = np.argsort(similarity_scores)[-top_n:][::-1]\n",
    "        similar_customers = [(customers['CustomerID'].iloc[i], similarity_scores[i]) for i in similar_indices]\n",
    "        \n",
    "        recommendations[customer_id] = similar_customers\n",
    "    \n",
    "    return recommendations\n",
    "\n",
    "# Get top 3 similar customers for the first 20 customers\n",
    "top_similar_customers = get_top_n_similar(customer_features, similarity_matrix, top_n=3)\n",
    "\n",
    "# Show recommendations for the first customer\n",
    "print(top_similar_customers['C0001'])\n"
   ]
  },
  {
   "cell_type": "markdown",
   "id": "dcd4ec54-48e7-4ee4-9c85-38051f8ce810",
   "metadata": {},
   "source": [
    "5. CREATE Lookalike.csv file"
   ]
  },
  {
   "cell_type": "code",
   "execution_count": 6,
   "id": "fca0bf67-d90c-4210-a3d7-4ceecdd4a98a",
   "metadata": {},
   "outputs": [
    {
     "name": "stdout",
     "output_type": "stream",
     "text": [
      "  CustomerID LookalikeCustomerID  SimilarityScore\n",
      "0      C0001               C0137         0.999360\n",
      "1      C0001               C0152         0.995658\n",
      "2      C0001               C0121         0.993012\n",
      "3      C0002               C0029         0.999638\n",
      "4      C0002               C0199         0.998867\n"
     ]
    }
   ],
   "source": [
    "# Format the recommendations into a dictionary for output\n",
    "lookalike_map = {cust_id: [(similar_cust, score) for similar_cust, score in recommendations] for cust_id, recommendations in top_similar_customers.items()}\n",
    "\n",
    "# Convert to DataFrame for easier export\n",
    "lookalike_data = []\n",
    "for cust_id, recommendations in lookalike_map.items():\n",
    "    for similar_cust, score in recommendations:\n",
    "        lookalike_data.append([cust_id, similar_cust, score])\n",
    "\n",
    "lookalike_df = pd.DataFrame(lookalike_data, columns=['CustomerID', 'LookalikeCustomerID', 'SimilarityScore'])\n",
    "\n",
    "# Save to CSV\n",
    "lookalike_df.to_csv('Ahalya_Innamuri_Lookalike.csv', index=False)\n",
    "\n",
    "# Check the output\n",
    "print(lookalike_df.head())\n"
   ]
  }
 ],
 "metadata": {
  "kernelspec": {
   "display_name": "Python 3 (ipykernel)",
   "language": "python",
   "name": "python3"
  },
  "language_info": {
   "codemirror_mode": {
    "name": "ipython",
    "version": 3
   },
   "file_extension": ".py",
   "mimetype": "text/x-python",
   "name": "python",
   "nbconvert_exporter": "python",
   "pygments_lexer": "ipython3",
   "version": "3.13.1"
  }
 },
 "nbformat": 4,
 "nbformat_minor": 5
}
